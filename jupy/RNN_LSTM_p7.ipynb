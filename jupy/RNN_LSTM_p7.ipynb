{
 "cells": [
  {
   "cell_type": "code",
   "execution_count": null,
   "id": "466c0458-6943-4c7e-bf27-c2ac28f8ba38",
   "metadata": {},
   "outputs": [],
   "source": [
    "from tensorflow.keras.layers import SimpleRNN, LSTM, GRU, Bidirectional, Dense, Embedding\n",
    "from tensorflow.keras.datasets import imdb\n",
    "from tensorflow.keras.models import Sequential\n",
    "import numpy as np\n"
   ]
  },
  {
   "cell_type": "code",
   "execution_count": null,
   "id": "757d5c5e-430e-4bae-aef7-e59b87ba384d",
   "metadata": {},
   "outputs": [],
   "source": [
    "vocab_size = 5000\n",
    "(x_train, y_train), (x_test, y_test) = imdb.load_data(num_words=vocab_size)\n"
   ]
  },
  {
   "cell_type": "code",
   "execution_count": null,
   "id": "d37fe528-78a0-4703-a088-571eb35d3d2c",
   "metadata": {},
   "outputs": [],
   "source": [
    "print(x_train[0])"
   ]
  },
  {
   "cell_type": "code",
   "execution_count": null,
   "id": "e05d8555-8c1a-42e5-9cb3-33544d8104e5",
   "metadata": {},
   "outputs": [],
   "source": [
    "# Getting all the words from word_index dictionary\n",
    "word_idx = imdb.get_word_index()\n",
    "\n",
    "# Originally the index number of a value and not a key,\n",
    "# hence converting the index as key and the words as values\n",
    "word_idx = {index: word for word, index in word_idx.items()}\n",
    "\n",
    "# again printing the review\n",
    "print([word_idx[i] for i in x_train[0]])\n"
   ]
  },
  {
   "cell_type": "code",
   "execution_count": null,
   "id": "251be18b-27c3-4836-834a-6871ab01bda8",
   "metadata": {},
   "outputs": [],
   "source": [
    "# Get the minimum and the maximum length of reviews\n",
    "print(\"Max length of review:: \", len(max((x_train+x_test), key=len)))\n",
    "print(\"Min length of a review:: \", len(min((x_train+x_test), key=len)))\n"
   ]
  },
  {
   "cell_type": "code",
   "execution_count": null,
   "id": "530ffbe2-902a-4f68-8a8e-39d671b99d39",
   "metadata": {},
   "outputs": [],
   "source": [
    "from tensorflow.keras.preprocessing import sequence\n",
    "\n",
    "# Keeping a fixed length of all reviews to max 400 words\n",
    "max_words = 400\n",
    "x_train = sequence.pad_sequences(x_train, maxlen=max_words)\n",
    "x_test = sequence.pad_sequences(x_test, maxlen=max_words)\n",
    "\n",
    "# Splitting the training set into train and validation sets\n",
    "x_valid, y_valid = x_train[:641], y_train[:641]\n",
    "x_train, y_train = x_train[641:], y_train[641:]\n",
    "embd_len = 32"
   ]
  },
  {
   "cell_type": "code",
   "execution_count": null,
   "id": "4f6bf10a-c90d-461d-a888-8ecb3a72286e",
   "metadata": {},
   "outputs": [],
   "source": [
    "# fixin every word's embedding size to be 32\n",
    "embd_len = 32\n",
    "\n",
    "# Creating a RNN model\n",
    "RNN_model = Sequential(name=\"Simple_RNN\")\n",
    "RNN_model.add(Embedding(vocab_size, embd_len, input_length=max_words))\n",
    "# In case of a stacked (more than one layer of RNN), use return_sequences=True\n",
    "RNN_model.add(SimpleRNN(128, activation=\"tanh\", return_sequences=False))\n",
    "RNN_model.add(Dense(1, activation=\"sigmoid\"))\n",
    "\n",
    "# printing model summary\n",
    "print(RNN_model.summary())\n",
    "\n",
    "# Compiling model\n",
    "RNN_model.compile(loss=\"binary_crossentropy\", optimizer='adam', metrics=['accuracy'])\n",
    "\n",
    "# Training the model\n",
    "history = RNN_model.fit(x_train, y_train, batch_size=64, epochs=5, verbose=1, validation_data=(x_valid, y_valid))\n",
    "\n",
    "# Printing model score on test data\n",
    "print()\n",
    "print(\"Simple RNN score: \", RNN_model.evaluate(x_test, y_test, verbose=1))\n"
   ]
  },
  {
   "cell_type": "code",
   "execution_count": null,
   "id": "7c16f7e0-9377-458e-af27-fa7fb4906dff",
   "metadata": {},
   "outputs": [],
   "source": [
    "# Defining GRU model\n",
    "gru_model = Sequential(name=\"GRU_Model\")\n",
    "gru_model.add(Embedding(vocab_size, embd_len, input_length=max_words))\n",
    "gru_model.add(GRU(128, activation='tanh', return_sequences=False))\n",
    "gru_model.add(Dense(1, activation='sigmoid'))\n",
    "# Printing the Summary\n",
    "print(gru_model.summary())\n",
    "# Compiling the model\n",
    "gru_model.compile(loss=\"binary_crossentropy\", optimizer='adam', metrics=['accuracy'])\n",
    "\n",
    "# Training the model\n",
    "history = gru_model.fit(x_train, y_train, batch_size=64, epochs=5, verbose=1, validation_data=(x_valid, y_valid))\n",
    "\n",
    "# Printing model score on test data\n",
    "print()\n",
    "print(\"Simple GRU score: \", gru_model.evaluate(x_test, y_test, verbose=1))\n"
   ]
  },
  {
   "cell_type": "code",
   "execution_count": null,
   "id": "3a15b1e2-b4dd-41af-8072-6c759492f1c1",
   "metadata": {},
   "outputs": [],
   "source": [
    "# Defining LSTM model\n",
    "lstm_model = Sequential(name=\"LSTM_Model\")\n",
    "lstm_model.add(Embedding(vocab_size, embd_len, input_length=max_words))\n",
    "lstm_model.add(LSTM(128, activation='relu', return_sequences=False))\n",
    "lstm_model.add(Dense(1, activation='sigmoid'))\n",
    "# Printing Model Summary\n",
    "print(lstm_model.summary())\n",
    "lstm_model.compile(loss=\"binary_crossentropy\", optimizer='adam', metrics=['accuracy'])\n",
    "\n",
    "# Training the model\n",
    "history = lstm_model.fit(x_train, y_train, batch_size=64, epochs=5, verbose=1, validation_data=(x_valid, y_valid))\n",
    "\n",
    "# Printing model score on test data\n",
    "print()\n",
    "print(\"Simple LSTM score: \", lstm_model.evaluate(x_test, y_test, verbose=1))"
   ]
  },
  {
   "cell_type": "code",
   "execution_count": null,
   "id": "eebddf97-2b13-4ba4-b110-3c9acc04873d",
   "metadata": {},
   "outputs": [],
   "source": []
  }
 ],
 "metadata": {
  "kernelspec": {
   "display_name": "Python 3 (ipykernel)",
   "language": "python",
   "name": "python3"
  },
  "language_info": {
   "codemirror_mode": {
    "name": "ipython",
    "version": 3
   },
   "file_extension": ".py",
   "mimetype": "text/x-python",
   "name": "python",
   "nbconvert_exporter": "python",
   "pygments_lexer": "ipython3",
   "version": "3.11.0"
  }
 },
 "nbformat": 4,
 "nbformat_minor": 5
}
