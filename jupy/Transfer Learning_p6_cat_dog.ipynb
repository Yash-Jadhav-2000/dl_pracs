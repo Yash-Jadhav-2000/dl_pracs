{
 "cells": [
  {
   "cell_type": "markdown",
   "id": "c6ebc42f-4c9d-4020-86c0-06c9624ae268",
   "metadata": {},
   "source": [
    "# Practical 6\n",
    "# Write a program to implement Transfer Learning on the suitable dataset (e.g. classify the cats versus dogs dataset from Kaggle). "
   ]
  },
  {
   "cell_type": "code",
   "execution_count": null,
   "id": "2c0c3cd7-eae7-4178-a224-2c4d6f28e0fc",
   "metadata": {},
   "outputs": [],
   "source": [
    "import tensorflow as tf\n",
    "from keras.preprocessing.image import ImageDataGenerator"
   ]
  },
  {
   "cell_type": "code",
   "execution_count": null,
   "id": "464ff5b4-b977-4180-8918-c44f6cfb9207",
   "metadata": {},
   "outputs": [],
   "source": [
    "train_datagen = ImageDataGenerator(rescale=1./255,\n",
    "                                   shear_range=0.2,\n",
    "                                   zoom_range=0.2,\n",
    "                                   horizontal_flip=True)\n",
    "\n",
    "training_set = train_datagen.flow_from_directory('small_dataset/training_set',\n",
    "                                                 target_size=(64, 64),\n",
    "                                                 batch_size=32,\n",
    "                                                 class_mode='binary')\n"
   ]
  },
  {
   "cell_type": "code",
   "execution_count": null,
   "id": "45aac027-ee9e-413a-999c-0de684d6c34a",
   "metadata": {},
   "outputs": [],
   "source": [
    "# Define data generator for test set\n",
    "test_datagen = ImageDataGenerator(rescale=1./255) # rescale the pixel values of test set\n",
    "\n",
    "# Create test set\n",
    "test_set = test_datagen.flow_from_directory('small_dataset/test_set',\n",
    "                                            target_size=(64, 64), # resize the images to (64,64)\n",
    "                                            batch_size=32,\n",
    "                                            class_mode='binary') # the classes are binary\n"
   ]
  },
  {
   "cell_type": "code",
   "execution_count": null,
   "id": "18bcc29c-99c1-46a4-9c29-ca7af19e0414",
   "metadata": {},
   "outputs": [],
   "source": [
    "cnn = tf.keras.models.Sequential()"
   ]
  },
  {
   "cell_type": "code",
   "execution_count": null,
   "id": "735ff429-1101-4d4a-bcf1-87b484f19365",
   "metadata": {},
   "outputs": [],
   "source": [
    "cnn.add(tf.keras.layers.Conv2D(filters=32, kernel_size=3, activation='relu', input_shape=[64,64,3]))"
   ]
  },
  {
   "cell_type": "code",
   "execution_count": null,
   "id": "73a07807-0cad-4097-b615-52dc854bed8e",
   "metadata": {},
   "outputs": [],
   "source": [
    "cnn.add(tf.keras.layers.MaxPool2D(pool_size=2, strides=2))"
   ]
  },
  {
   "cell_type": "code",
   "execution_count": null,
   "id": "3ad880f0-c98c-4ef7-a49a-8bdc4a65dd07",
   "metadata": {},
   "outputs": [],
   "source": [
    "cnn.add(tf. keras.layers.Conv2D (filters=32, kernel_size=3, activation='relu'))\n",
    "cnn.add(tf. keras.layers.MaxPool2D (pool_size=2, strides=2))"
   ]
  },
  {
   "cell_type": "code",
   "execution_count": null,
   "id": "ac797585-1cd2-41ee-87e6-3e01f4ed5e8b",
   "metadata": {},
   "outputs": [],
   "source": [
    "cnn.add(tf.keras.layers.Flatten())"
   ]
  },
  {
   "cell_type": "code",
   "execution_count": null,
   "id": "3aa007ab-41eb-493e-86fb-6750df8be521",
   "metadata": {},
   "outputs": [],
   "source": [
    "cnn.add(tf.keras.layers.Dense(units=128, activation='relu'))"
   ]
  },
  {
   "cell_type": "code",
   "execution_count": null,
   "id": "93ff1a67-8834-4ec4-85ff-cd1f2d096067",
   "metadata": {},
   "outputs": [],
   "source": [
    "cnn.add(tf.keras.layers.Dense(units=1, activation='sigmoid'))"
   ]
  },
  {
   "cell_type": "code",
   "execution_count": null,
   "id": "1cbc0136-9948-4d40-ac08-f02e2b7fa873",
   "metadata": {},
   "outputs": [],
   "source": [
    "cnn. compile(optimizer = \"adam\", loss ='binary_crossentropy', metrics = ['accuracy'])"
   ]
  },
  {
   "cell_type": "code",
   "execution_count": null,
   "id": "ca7120ef-348c-459f-b5bd-72634ccfb568",
   "metadata": {},
   "outputs": [],
   "source": [
    "cnn.fit(x=training_set,\n",
    "        validation_data=test_set,\n",
    "        epochs=25)\n"
   ]
  },
  {
   "cell_type": "code",
   "execution_count": null,
   "id": "f61ed333-c585-453c-b3c4-c308907c275e",
   "metadata": {},
   "outputs": [],
   "source": [
    "import numpy as np\n",
    "from keras.preprocessing import image\n",
    "import keras.utils as image\n",
    "# Load the image to be classified\n",
    "test_image = image.load_img('small_dataset/single_prediction/cat_or_dog_2.jpg', target_size=(64, 64))\n",
    "test_image = image.img_to_array(test_image)\n",
    "test_image = np.expand_dims(test_image, axis=0)\n",
    "\n",
    "# Make the prediction\n",
    "result = cnn.predict(test_image)\n",
    "if result[0][0] == 1:\n",
    "    prediction = \"dog\"\n",
    "else:\n",
    "    prediction = \"cat\"\n",
    "    \n",
    "print(prediction)\n"
   ]
  },
  {
   "cell_type": "code",
   "execution_count": null,
   "id": "f8a89ab9-b24c-4624-8dd1-d83f116e8c24",
   "metadata": {},
   "outputs": [],
   "source": []
  }
 ],
 "metadata": {
  "kernelspec": {
   "display_name": "Python 3 (ipykernel)",
   "language": "python",
   "name": "python3"
  },
  "language_info": {
   "codemirror_mode": {
    "name": "ipython",
    "version": 3
   },
   "file_extension": ".py",
   "mimetype": "text/x-python",
   "name": "python",
   "nbconvert_exporter": "python",
   "pygments_lexer": "ipython3",
   "version": "3.11.0"
  }
 },
 "nbformat": 4,
 "nbformat_minor": 5
}
