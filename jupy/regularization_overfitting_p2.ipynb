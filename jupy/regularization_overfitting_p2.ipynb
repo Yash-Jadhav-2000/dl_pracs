{
 "cells": [
  {
   "cell_type": "code",
   "execution_count": null,
   "metadata": {
    "id": "wHgb8lz_c0HF"
   },
   "outputs": [],
   "source": [
    "import numpy as np\n",
    "import matplotlib.pyplot as plt\n",
    "import pandas as pd\n",
    "from sklearn import metrics\n",
    "from sklearn.linear_model import Lasso\n",
    "from sklearn.linear_model import Ridge"
   ]
  },
  {
   "cell_type": "code",
   "execution_count": null,
   "metadata": {
    "id": "N5jRmED0eTgs"
   },
   "outputs": [],
   "source": [
    "dataset = pd.read_csv('salary_data.csv')\n",
    "X = dataset.iloc[:, :-1].values\n",
    "y = dataset.iloc[:, -1].values"
   ]
  },
  {
   "cell_type": "code",
   "execution_count": null,
   "metadata": {
    "id": "xpdL43HoeowM"
   },
   "outputs": [],
   "source": [
    "from sklearn.model_selection import train_test_split\n",
    "\n",
    "X_train, X_test, y_train, y_test = train_test_split(X, y, test_size=1/3, random_state=0)\n"
   ]
  },
  {
   "cell_type": "code",
   "execution_count": null,
   "metadata": {
    "colab": {
     "base_uri": "https://localhost:8080/"
    },
    "id": "RSa7Cd2eeozH",
    "outputId": "e7a07c39-ac0f-4e24-d42d-5459550e49c9"
   },
   "outputs": [],
   "source": [
    "print(X_train)\n",
    "print(X_test)\n",
    "print(y_train)\n",
    "print(y_test)"
   ]
  },
  {
   "cell_type": "code",
   "execution_count": null,
   "metadata": {
    "id": "Yr7UbTayeo8t"
   },
   "outputs": [],
   "source": [
    "lasso = Lasso()"
   ]
  },
  {
   "cell_type": "code",
   "execution_count": null,
   "metadata": {
    "colab": {
     "base_uri": "https://localhost:8080/",
     "height": 75
    },
    "id": "Ps7K3pn8eo_k",
    "outputId": "b02ac6c7-a8ba-45f3-d641-6956d3afd7ed"
   },
   "outputs": [],
   "source": [
    "lasso.fit(X_train, y_train)\n"
   ]
  },
  {
   "cell_type": "code",
   "execution_count": null,
   "metadata": {
    "colab": {
     "base_uri": "https://localhost:8080/"
    },
    "id": "sn4Z6fF8epCc",
    "outputId": "88be739a-fb31-4a24-a3d7-c8262463bdd3"
   },
   "outputs": [],
   "source": [
    "print(\"Lasso Train RMSE:\" ,np.round(np.sqrt(metrics.mean_squared_error(y_train, lasso.predict(X_train))), 5))"
   ]
  },
  {
   "cell_type": "code",
   "execution_count": null,
   "metadata": {
    "colab": {
     "base_uri": "https://localhost:8080/"
    },
    "id": "xGGdXTKYepIQ",
    "outputId": "ccaa7361-3ca2-4348-c554-fb39b1b58b50"
   },
   "outputs": [],
   "source": [
    "print(\"Lasso Test RMSE:\", np.round(np.sqrt(metrics.mean_squared_error(y_test, lasso.predict(X_test))), 5))"
   ]
  },
  {
   "cell_type": "code",
   "execution_count": null,
   "metadata": {
    "id": "dDaO0YcIg3-J"
   },
   "outputs": [],
   "source": [
    "ridge = Ridge()"
   ]
  },
  {
   "cell_type": "code",
   "execution_count": null,
   "metadata": {
    "colab": {
     "base_uri": "https://localhost:8080/",
     "height": 75
    },
    "id": "vsIileEcg4BC",
    "outputId": "9ab46a41-96d9-4bdb-a924-ca6ddedf13e5"
   },
   "outputs": [],
   "source": [
    "ridge.fit(X_train, y_train)"
   ]
  },
  {
   "cell_type": "code",
   "execution_count": null,
   "metadata": {
    "colab": {
     "base_uri": "https://localhost:8080/"
    },
    "id": "0nWcU6u1g4Dx",
    "outputId": "e9240570-4d9c-4e13-d6e5-808f01b07f9b"
   },
   "outputs": [],
   "source": [
    "print(\"Ridge Train RMSE:\" ,np.round(np.sqrt(metrics.mean_squared_error(y_train, ridge.predict(X_train))), 5))"
   ]
  },
  {
   "cell_type": "code",
   "execution_count": null,
   "metadata": {
    "colab": {
     "base_uri": "https://localhost:8080/"
    },
    "id": "ASzdLOy2hTRH",
    "outputId": "4e2dfbf7-fd21-4f2b-fc47-04fb4eeaf2f0"
   },
   "outputs": [],
   "source": [
    "print(\"Ridge Test RMSE:\", np.round(np.sqrt(metrics.mean_squared_error(y_test, ridge.predict(X_test))), 5))"
   ]
  },
  {
   "cell_type": "code",
   "execution_count": null,
   "metadata": {
    "id": "tsrE24jjhTTE"
   },
   "outputs": [],
   "source": []
  },
  {
   "cell_type": "code",
   "execution_count": null,
   "metadata": {
    "id": "8lNy_owNhTVr"
   },
   "outputs": [],
   "source": []
  }
 ],
 "metadata": {
  "colab": {
   "provenance": []
  },
  "kernelspec": {
   "display_name": "Python 3 (ipykernel)",
   "language": "python",
   "name": "python3"
  },
  "language_info": {
   "codemirror_mode": {
    "name": "ipython",
    "version": 3
   },
   "file_extension": ".py",
   "mimetype": "text/x-python",
   "name": "python",
   "nbconvert_exporter": "python",
   "pygments_lexer": "ipython3",
   "version": "3.11.0"
  }
 },
 "nbformat": 4,
 "nbformat_minor": 4
}
