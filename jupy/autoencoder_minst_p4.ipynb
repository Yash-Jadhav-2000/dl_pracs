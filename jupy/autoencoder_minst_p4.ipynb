{
 "cells": [
  {
   "cell_type": "markdown",
   "id": "f61fbf0b-66f3-4b95-aabe-a3e3974c0577",
   "metadata": {},
   "source": [
    "# Practical 4\n",
    "# Implement deep learning for the Prediction of the autoencoder from the test data (e.g. MNIST data set)"
   ]
  },
  {
   "cell_type": "code",
   "execution_count": null,
   "id": "568f8f59-b6e0-41f9-a08a-1ed64e076724",
   "metadata": {},
   "outputs": [],
   "source": [
    "from keras.layers import Input, Dense\n",
    "from keras.models import Model\n",
    "from keras.datasets import mnist\n",
    "import numpy as np\n",
    "import matplotlib.pyplot as plt\n",
    "%matplotlib inline"
   ]
  },
  {
   "cell_type": "code",
   "execution_count": null,
   "id": "4de8d0ae-ee27-48d9-8424-f50e2985d5d2",
   "metadata": {},
   "outputs": [],
   "source": [
    "#Load our MNIST dataset.\n",
    "(XTrain, YTrain), (XTest, YTest) = mnist.load_data()\n",
    "print ('XTrain class = ', type(XTrain)) \n",
    "print('YTrain class = ' , type(YTrain))\n",
    "\n",
    "# shape of our dataset\n",
    "print('XTrain shape:', XTrain.shape)\n",
    "print('XTest shape:', XTest.shape)\n",
    "print('YTrain shape:', YTrain.shape)\n",
    "print('YTest shape:', YTest.shape)\n",
    "\n",
    "# Number of distinct values of our MNIST target\n",
    "print(\"YTrain values:\", np.unique(YTrain))\n",
    "print(\"YTest values:\", np.unique(YTest))\n",
    "\n",
    "# Distribution of classes in our dataset\n",
    "unique, counts = np.unique(YTrain, return_counts=True)\n",
    "print('YTrain distribution:', dict(zip(unique, counts)))\n",
    "unique, counts = np.unique(YTest, return_counts=True)\n",
    "print('YTest distribution:', dict(zip(unique, counts)))\n"
   ]
  },
  {
   "cell_type": "code",
   "execution_count": null,
   "id": "99aeaf24-0d83-4f0e-8c54-3b11d910ca2c",
   "metadata": {},
   "outputs": [],
   "source": [
    "fig, axs = plt. subplots (1,2, figsize= (15, 5))\n",
    "axs[0].hist(YTrain,ec='black')\n",
    "axs[0].set_title('YTrain data')\n",
    "axs[0].set_xlabel ( 'Classes')\n",
    "axs[0].set_label ( 'Number of occurrences')\n",
    "axs[1].hist(YTest, ec='black' )\n",
    "axs[1].set_title('YTest data')\n",
    "axs[1].set_xlabel ( 'Classes')\n",
    "axs[1].set_label ('Number of occurrences')\n",
    "# We want to show all ticks..\n",
    "axs[0].set_xticks (np.arange(10))\n",
    "axs[1].set_xticks(np.arange(10))\n",
    "plt.show()"
   ]
  },
  {
   "cell_type": "code",
   "execution_count": null,
   "id": "9695b4c4-2b16-49bf-9566-5a0863e714f8",
   "metadata": {},
   "outputs": [],
   "source": [
    "# Data normalization.\n",
    "XTrain = XTrain.astype('float32' ) / 255\n",
    "XTest = XTest.astype('float32') / 255\n",
    "# data reshapping.\n",
    "XTrain = XTrain.reshape((len(XTrain), np.prod(XTrain.shape[1:])))\n",
    "XTest = XTest.reshape((len(XTest), np.prod(XTest.shape[1:])))\n",
    "print (XTrain.shape)\n",
    "print (XTest.shape)"
   ]
  },
  {
   "cell_type": "code",
   "execution_count": null,
   "id": "0dead9cc-039e-4cce-84ab-10d606708b1d",
   "metadata": {},
   "outputs": [],
   "source": [
    "InputModel = Input (shape=(784,))\n",
    "EncodedLayer = Dense(32, activation='relu') (InputModel)\n",
    "DecodedLayer = Dense(784, activation='sigmoid') (EncodedLayer)\n",
    "AutoencoderModel = Model (InputModel, DecodedLayer)\n",
    "# we can summarize our model.\n",
    "AutoencoderModel. summary ()"
   ]
  },
  {
   "cell_type": "code",
   "execution_count": null,
   "id": "c080be74-d94a-478f-be7e-f7ff2294bc63",
   "metadata": {},
   "outputs": [],
   "source": [
    "# Let's train the model using adadelta optimizer\n",
    "#AutoencoderModel.compile(optimizer='adadelta', loss='binary_crossentropy')\n",
    "AutoencoderModel.compile(optimizer='adam', loss= 'binary_crossentropy')\n",
    "history = AutoencoderModel.fit(XTrain, XTrain,\n",
    "                               batch_size=256,\n",
    "                               epochs=100,\n",
    "                               shuffle=True,\n",
    "                               validation_data=(XTest, XTest))\n",
    "# Make prediction to decode the digits\n",
    "DecodedDigits=AutoencoderModel.predict(XTest)"
   ]
  },
  {
   "cell_type": "code",
   "execution_count": null,
   "id": "624d60fd-6079-42e7-a07c-d052cc18b39c",
   "metadata": {},
   "outputs": [],
   "source": [
    "def plotmodelhistory(history):\n",
    "    plt.plot(history.history['loss'])\n",
    "    plt.plot(history.history['val_loss'])\n",
    "    plt. title('Autoencoder Model loss')\n",
    "    plt.ylabel('Loss')\n",
    "    plt.xlabel('Epoch')\n",
    "    plt.legend ([ 'Train','Test'], loc='upper left')\n",
    "    plt.show()\n",
    "# list all data in history\n",
    "print(history.history.keys())\n",
    "# visualization of the loss minimization during the training process\n",
    "plotmodelhistory(history)"
   ]
  },
  {
   "cell_type": "code",
   "execution_count": null,
   "id": "a998103c-ac4a-49b8-b9f3-e528a52935cc",
   "metadata": {},
   "outputs": [],
   "source": [
    "n=5\n",
    "plt.figure(figsize=(20, 4))\n",
    "for i in range(n) :\n",
    "    ax = plt.subplot(2, n, i + 1)\n",
    "    # input image\n",
    "    plt.imshow(XTest[i+10].reshape(28,28))\n",
    "    plt.gray()\n",
    "    ax.get_xaxis().set_visible(False)\n",
    "    ax.get_yaxis().set_visible (False)\n",
    "    ax = plt.subplot(2, n, i + 1 + n)\n",
    "    # Image decoded by our Auto-encoder\n",
    "    plt. imshow (DecodedDigits[i+10].reshape(28, 28) )\n",
    "    plt.gray()"
   ]
  },
  {
   "cell_type": "code",
   "execution_count": null,
   "id": "833f73eb-29c6-43ef-8bed-98cb00cc270f",
   "metadata": {},
   "outputs": [],
   "source": []
  }
 ],
 "metadata": {
  "kernelspec": {
   "display_name": "Python 3 (ipykernel)",
   "language": "python",
   "name": "python3"
  },
  "language_info": {
   "codemirror_mode": {
    "name": "ipython",
    "version": 3
   },
   "file_extension": ".py",
   "mimetype": "text/x-python",
   "name": "python",
   "nbconvert_exporter": "python",
   "pygments_lexer": "ipython3",
   "version": "3.11.0"
  }
 },
 "nbformat": 4,
 "nbformat_minor": 5
}
